{
 "cells": [
  {
   "cell_type": "markdown",
   "metadata": {},
   "source": [
    "# Dummy Model"
   ]
  },
  {
   "cell_type": "code",
   "execution_count": 1,
   "metadata": {},
   "outputs": [],
   "source": [
    "import torch\n",
    "import torch.nn as nn\n",
    "from torch.utils.data import DataLoader, TensorDataset\n",
    "\n",
    "# Dummy model\n",
    "class DummyModel(nn.Module):\n",
    "    def __init__(self):\n",
    "        super(DummyModel, self).__init__()\n",
    "        self.fc1 = nn.Linear(10, 20)\n",
    "        self.fc2 = nn.Linear(20, 5)\n",
    "\n",
    "    def forward(self, x):\n",
    "        return self.fc2(torch.relu(self.fc1(x)))\n",
    "\n",
    "# Dummy dataset\n",
    "inputs = torch.rand(100, 10)  # 100 samples, 10 features each\n",
    "targets = torch.randint(0, 5, (100,))  # 100 labels in 5 classes\n",
    "dataset = TensorDataset(inputs, targets)\n",
    "train_loader = DataLoader(dataset, batch_size=10)\n",
    "test_loader = DataLoader(dataset, batch_size=10)\n"
   ]
  },
  {
   "cell_type": "markdown",
   "metadata": {},
   "source": [
    "# Dummy Model Training"
   ]
  },
  {
   "cell_type": "code",
   "execution_count": null,
   "metadata": {},
   "outputs": [
    {
     "name": "stdout",
     "output_type": "stream",
     "text": [
      "Epoch 1/5, Loss: 1.5296523571014404\n",
      "Epoch 2/5, Loss: 1.5105907917022705\n",
      "Epoch 3/5, Loss: 1.5032626390457153\n",
      "Epoch 4/5, Loss: 1.4935967922210693\n",
      "Epoch 5/5, Loss: 1.4843406677246094\n"
     ]
    }
   ],
   "source": [
    "# Model, loss function, optimizer\n",
    "model = DummyModel()\n",
    "criterion = nn.CrossEntropyLoss()\n",
    "optimizer = torch.optim.Adam(model.parameters(), lr=0.01)\n",
    "\n",
    "# Training loop\n",
    "epochs = 5\n",
    "for epoch in range(epochs):\n",
    "    model.train()  # Training mode\n",
    "    for inputs, targets in train_loader:\n",
    "        inputs, targets = inputs, targets  # Move to device if necessary\n",
    "\n",
    "        # Forward pass\n",
    "        outputs = model(inputs)\n",
    "        loss = criterion(outputs, targets)\n",
    "\n",
    "        # Backward pass\n",
    "        optimizer.zero_grad()\n",
    "        loss.backward()\n",
    "        optimizer.step()\n",
    "\n",
    "    print(f\"Epoch {epoch + 1}/{epochs}, Loss: {loss.item()}\")\n"
   ]
  },
  {
   "cell_type": "markdown",
   "metadata": {},
   "source": [
    "# SAFT"
   ]
  },
  {
   "cell_type": "code",
   "execution_count": 21,
   "metadata": {},
   "outputs": [
    {
     "name": "stdout",
     "output_type": "stream",
     "text": [
      "Selected Threshold: 0.0 \n",
      "\n",
      "Selected Parameters:\n",
      "Parameter: fc1.weight, Selected Count: 200, Total Count: 200\n",
      "Parameter: fc1.bias, Selected Count: 20, Total Count: 20\n",
      "Parameter: fc2.weight, Selected Count: 100, Total Count: 100\n",
      "Parameter: fc2.bias, Selected Count: 5, Total Count: 5\n",
      "\n",
      "Total Parameters: 325\n",
      "Total Selected: 325\n",
      "Selection Ratio: 100.00%\n"
     ]
    }
   ],
   "source": [
    "def select_important_parameters(model, dataloader, criterion, sparsity_level):\n",
    "    \"\"\"\n",
    "    Accumulate gradients and select important parameters based on gradient magnitudes.\n",
    "\n",
    "    Args:\n",
    "        model (torch.nn.Module): The pre-trained model.\n",
    "        dataloader (DataLoader): DataLoader for the downstream task.\n",
    "        criterion (callable): Loss function (e.g., CrossEntropyLoss).\n",
    "        sparsity_level (float): Fraction of parameters to select for fine-tuning.\n",
    "\n",
    "    Returns:\n",
    "        dict: Dictionary of selected parameters (names and values).\n",
    "        int: Total number of parameters.\n",
    "        int: Total number of selected parameters.\n",
    "    \"\"\"\n",
    "    model.eval()  # Ensure model is in evaluation mode\n",
    "    param_gradients = {name: torch.zeros_like(param) for name, param in model.named_parameters()}\n",
    "    total_samples = 0\n",
    "    model.zero_grad()\n",
    "\n",
    "    # Iterate over batches without zeroing gradients\n",
    "    for batch in dataloader:\n",
    "        inputs, targets = batch\n",
    "        inputs, targets = inputs.to(next(model.parameters()).device), targets.to(next(model.parameters()).device)\n",
    "\n",
    "        # Forward pass\n",
    "        outputs = model(inputs)\n",
    "\n",
    "        # Handle case where model returns a tuple\n",
    "        if isinstance(outputs, tuple):\n",
    "            outputs = outputs[0]\n",
    "\n",
    "        # Compute loss\n",
    "        loss = criterion(outputs, targets)\n",
    "\n",
    "        # Backward pass to compute gradients\n",
    "        loss.backward()\n",
    "\n",
    "        # Accumulate gradients for all parameters\n",
    "        for name, param in model.named_parameters():\n",
    "            if param.grad is not None:  # Only accumulate if parameter has gradients\n",
    "                param_gradients[name] += param.grad.abs()\n",
    "\n",
    "        total_samples += len(targets)\n",
    "\n",
    "    # Average gradients across all samples\n",
    "    for name in param_gradients:\n",
    "        param_gradients[name] /= total_samples\n",
    "\n",
    "    # Flatten and sort all gradients to determine the threshold\n",
    "    all_gradients = torch.cat([g.view(-1) for g in param_gradients.values()])\n",
    "\n",
    "    # Sort all gradients in descending order\n",
    "    sorted_gradients, _ = torch.sort(all_gradients, descending=True)\n",
    "\n",
    "    # Determine the number of parameters to select\n",
    "    num_selected = int(len(sorted_gradients) * sparsity_level)\n",
    "    threshold = sorted_gradients[num_selected - 1]  # Threshold value for top gradients\n",
    "\n",
    "    # Select important parameters based on the threshold\n",
    "    selected_parameters = {}\n",
    "    total_selected = 0  # Count total selected parameters\n",
    "    for name, grad in param_gradients.items():\n",
    "        if torch.any(grad >= threshold):\n",
    "            mask = grad >= threshold  # Create a mask for selected values\n",
    "            selected_parameters[name] = mask\n",
    "            total_selected += mask.sum().item()\n",
    "\n",
    "    total_parameters = sum(g.numel() for g in param_gradients.values())\n",
    "    return selected_parameters, total_parameters, total_selected, threshold\n",
    "\n",
    "# SAFT Selection\n",
    "alpha = 0.6  # Select top 10% of parameters\n",
    "selected_params, total_params, total_selected, threshold = select_important_parameters(model, test_loader, criterion, alpha)\n",
    "\n",
    "# Print results\n",
    "print(f\"Selected Threshold: {threshold} \")\n",
    "print(\"\\nSelected Parameters:\")\n",
    "for name, mask in selected_params.items():\n",
    "    print(f\"Parameter: {name}, Selected Count: {mask.sum().item()}, Total Count: {mask.numel()}\")\n",
    "\n",
    "print(f\"\\nTotal Parameters: {total_params}\")\n",
    "print(f\"Total Selected: {total_selected}\")\n",
    "print(f\"Selection Ratio: {total_selected / total_params:.2%}\")\n"
   ]
  },
  {
   "cell_type": "code",
   "execution_count": null,
   "metadata": {},
   "outputs": [
    {
     "name": "stdout",
     "output_type": "stream",
     "text": [
      "Total Gradients: 325, Selected: 325\n"
     ]
    },
    {
     "data": {
      "image/png": "[encoded data removed]",
      "text/plain": [
       "<Figure size 640x480 with 1 Axes>"
      ]
     },
     "metadata": {},
     "output_type": "display_data"
    }
   ],
   "source": [
    "\n",
    "total_gradients = sum(g.numel() for g in torch.cat([p.view(-1) for p in model.parameters()]))\n",
    "num_selected = sum(g.numel() for g in selected_params.values())\n",
    "print(f\"Total Gradients: {total_gradients}, Selected: {num_selected}\")\n",
    "\n",
    "# Visualization \n",
    "all_gradients = torch.cat([g.view(-1) for g in torch.cat([p.grad.abs().view(-1) for p in model.parameters()])])\n",
    "import matplotlib.pyplot as plt\n",
    "plt.hist(all_gradients.cpu().numpy(), bins=50, alpha=0.7, label='All Gradients')\n",
    "plt.axvline(torch.quantile(all_gradients, 1 - alpha).item(), color='r', linestyle='--', label='Threshold')\n",
    "plt.legend()\n",
    "plt.title(\"Gradient Distribution with SAFT Threshold\")\n",
    "plt.show()\n"
   ]
  }
 ],
 "metadata": {
  "kernelspec": {
   "display_name": "runtime",
   "language": "python",
   "name": "python3"
  },
  "language_info": {
   "codemirror_mode": {
    "name": "ipython",
    "version": 3
   },
   "file_extension": ".py",
   "mimetype": "text/x-python",
   "name": "python",
   "nbconvert_exporter": "python",
   "pygments_lexer": "ipython3",
   "version": "3.10.12"
  }
 },
 "nbformat": 4,
 "nbformat_minor": 2
}
